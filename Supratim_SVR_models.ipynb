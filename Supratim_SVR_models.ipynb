{
  "cells": [
    {
      "cell_type": "code",
      "execution_count": 12,
      "metadata": {
        "id": "ggNZzeDiq-Kz"
      },
      "outputs": [],
      "source": [
        "# Importing the necessary packages\n",
        "\n",
        "import numpy as np\n",
        "np.random.seed(42)\n",
        "\n",
        "import os\n",
        "import pandas as pd\n",
        "from sklearn.model_selection import train_test_split, GridSearchCV\n",
        "from sklearn.pipeline import Pipeline\n",
        "from sklearn.ensemble import RandomForestClassifier,BaggingClassifier\n",
        "from sklearn.tree import DecisionTreeClassifier\n",
        "from sklearn.cluster import KMeans\n",
        "from sklearn.decomposition import PCA\n",
        "from sklearn.preprocessing import StandardScaler\n",
        "from sklearn.metrics import classification_report, accuracy_score, f1_score, recall_score, precision_score, confusion_matrix\n",
        "import time\n",
        "import matplotlib.pyplot as plt\n",
        "import seaborn as sns\n",
        "from sklearn.svm import SVC\n",
        "from sklearn.metrics import accuracy_score\n",
        "\n",
        "\n",
        "\n",
        "from sklearn.inspection import permutation_importance\n",
        "from sklearn.svm import SVR\n",
        "from sklearn.preprocessing import StandardScaler\n",
        "from sklearn.metrics import mean_squared_error, r2_score\n",
        "from sklearn.metrics import mean_squared_error, mean_absolute_error, r2_score\n",
        "\n",
        "import warnings\n",
        "warnings.filterwarnings('ignore')\n",
        "#add other imports here"
      ]
    },
    {
      "cell_type": "code",
      "execution_count": 2,
      "metadata": {
        "id": "cfPHtxnLrmnW"
      },
      "outputs": [],
      "source": [
        "# Loading the Dataset with relative path\n",
        "dataFrame = pd.read_csv('energydata_complete.csv')"
      ]
    },
    {
      "cell_type": "code",
      "execution_count": 3,
      "metadata": {
        "colab": {
          "base_uri": "https://localhost:8080/"
        },
        "id": "zG0HplOyr0S1",
        "outputId": "92065fb6-e72c-475f-d557-444d30c3615d"
      },
      "outputs": [
        {
          "output_type": "stream",
          "name": "stdout",
          "text": [
            "              T1       RH_1         T2       RH_2         T3       RH_3  \\\n",
            "0      19.890000  47.596667  19.200000  44.790000  19.790000  44.730000   \n",
            "1      19.890000  46.693333  19.200000  44.722500  19.790000  44.790000   \n",
            "2      19.890000  46.300000  19.200000  44.626667  19.790000  44.933333   \n",
            "3      19.890000  46.066667  19.200000  44.590000  19.790000  45.000000   \n",
            "4      19.890000  46.333333  19.200000  44.530000  19.790000  45.000000   \n",
            "...          ...        ...        ...        ...        ...        ...   \n",
            "19730  25.566667  46.560000  25.890000  42.025714  27.200000  41.163333   \n",
            "19731  25.500000  46.500000  25.754000  42.080000  27.133333  41.223333   \n",
            "19732  25.500000  46.596667  25.628571  42.768571  27.050000  41.690000   \n",
            "19733  25.500000  46.990000  25.414000  43.036000  26.890000  41.290000   \n",
            "19734  25.500000  46.600000  25.264286  42.971429  26.823333  41.156667   \n",
            "\n",
            "              T4       RH_4         T5       RH_5  ...       RH_8         T9  \\\n",
            "0      19.000000  45.566667  17.166667  55.200000  ...  48.900000  17.033333   \n",
            "1      19.000000  45.992500  17.166667  55.200000  ...  48.863333  17.066667   \n",
            "2      18.926667  45.890000  17.166667  55.090000  ...  48.730000  17.000000   \n",
            "3      18.890000  45.723333  17.166667  55.090000  ...  48.590000  17.000000   \n",
            "4      18.890000  45.530000  17.200000  55.090000  ...  48.590000  17.000000   \n",
            "...          ...        ...        ...        ...  ...        ...        ...   \n",
            "19730  24.700000  45.590000  23.200000  52.400000  ...  50.074000  23.200000   \n",
            "19731  24.700000  45.590000  23.230000  52.326667  ...  49.790000  23.200000   \n",
            "19732  24.700000  45.730000  23.230000  52.266667  ...  49.660000  23.200000   \n",
            "19733  24.700000  45.790000  23.200000  52.200000  ...  49.518750  23.200000   \n",
            "19734  24.700000  45.963333  23.200000  52.200000  ...  49.736000  23.200000   \n",
            "\n",
            "          RH_9      T_out  Press_mm_hg     RH_out  Windspeed  Visibility  \\\n",
            "0      45.5300   6.600000        733.5  92.000000   7.000000   63.000000   \n",
            "1      45.5600   6.483333        733.6  92.000000   6.666667   59.166667   \n",
            "2      45.5000   6.366667        733.7  92.000000   6.333333   55.333333   \n",
            "3      45.4000   6.250000        733.8  92.000000   6.000000   51.500000   \n",
            "4      45.4000   6.133333        733.9  92.000000   5.666667   47.666667   \n",
            "...        ...        ...          ...        ...        ...         ...   \n",
            "19730  46.7900  22.733333        755.2  55.666667   3.333333   23.666667   \n",
            "19731  46.7900  22.600000        755.2  56.000000   3.500000   24.500000   \n",
            "19732  46.7900  22.466667        755.2  56.333333   3.666667   25.333333   \n",
            "19733  46.8175  22.333333        755.2  56.666667   3.833333   26.166667   \n",
            "19734  46.8450  22.200000        755.2  57.000000   4.000000   27.000000   \n",
            "\n",
            "       Tdewpoint  Power  \n",
            "0       5.300000     90  \n",
            "1       5.200000     90  \n",
            "2       5.100000     80  \n",
            "3       5.000000     90  \n",
            "4       4.900000    100  \n",
            "...          ...    ...  \n",
            "19730  13.333333    100  \n",
            "19731  13.300000     90  \n",
            "19732  13.266667    280  \n",
            "19733  13.233333    430  \n",
            "19734  13.200000    440  \n",
            "\n",
            "[19735 rows x 25 columns]\n"
          ]
        }
      ],
      "source": [
        "procData = dataFrame.dropna(how = 'all', axis = 1, inplace = False)\n",
        "# Removing rows with null values\n",
        "procData = procData.dropna() \n",
        "# Combining Appliances and Lights column as new Power column\n",
        "procData['Power'] = procData['Appliances'].astype(int) + procData['lights'].astype(int)\n",
        "# Drop the old Appliance column\n",
        "procData = procData.drop('Appliances', axis = 1);\n",
        "# Drop the old lights column\n",
        "procData = procData.drop('lights', axis = 1);\n",
        "# Drop the date column as it is not of importance for our study\n",
        "procData = procData.drop('date', axis = 1);   \n",
        "# Drop the other columns which are not of importance for our study ( 2 random variable columns)\n",
        "procData = procData.drop(['rv1','rv2'], axis=1)\n",
        "\n",
        "# Defining the X (input) and y(target variable) for our study\n",
        "X= procData.drop(['Power'], axis = 1)\n",
        "y = procData[\"Power\"] \n",
        "\n",
        "# Splitting the data, keeping 30% as reserved for testing\n",
        "Xtrain, Xtest, ytrain, ytest = train_test_split(X,y,test_size =0.30, random_state=42)\n",
        "  \n",
        "# printing a view of the Processed Dataframe\n",
        "print(procData)\n"
      ]
    },
    {
      "cell_type": "code",
      "execution_count": 4,
      "metadata": {
        "id": "V_oVv9lw27DT"
      },
      "outputs": [],
      "source": [
        "\n",
        "from sklearn.inspection import permutation_importance\n",
        "from sklearn.svm import SVR\n",
        "from sklearn.preprocessing import StandardScaler\n",
        "from sklearn.metrics import mean_squared_error, r2_score\n",
        "from sklearn.metrics import mean_squared_error, mean_absolute_error, r2_score\n",
        "\n",
        "\n",
        "\n",
        "# Standardizing the input features\n",
        "scaler = StandardScaler()\n",
        "X_train = scaler.fit_transform(Xtrain)\n",
        "X_test = scaler.transform(Xtest)\n",
        "\n",
        "\n",
        "# Creating the SVR model\n",
        "# kernel is selected as linear, with maximum iteration of 10000, taking 10 iterations\n",
        "svr = SVR(kernel='linear', C=1.0, epsilon=0.2, max_iter=10000)\n",
        "for i in range(10):\n",
        "    # Fitting the SVR model\n",
        "    svr.fit(X_train, ytrain)\n",
        "\n",
        "# Making predictions on testing set\n",
        "y_pred = svr.predict(X_test)\n",
        "\n",
        "\n"
      ]
    },
    {
      "cell_type": "code",
      "execution_count": 5,
      "metadata": {
        "colab": {
          "base_uri": "https://localhost:8080/",
          "height": 904
        },
        "id": "xmq5n-v-ahhJ",
        "outputId": "4050c004-77e1-4318-a249-5e41c8de6476"
      },
      "outputs": [
        {
          "output_type": "display_data",
          "data": {
            "text/plain": [
              "<Figure size 640x480 with 1 Axes>"
            ],
            "image/png": "[encoded data removed]"
          },
          "metadata": {}
        },
        {
          "output_type": "display_data",
          "data": {
            "text/plain": [
              "<Figure size 640x480 with 1 Axes>"
            ],
            "image/png": "[encoded data removed]"
          },
          "metadata": {}
        }
      ],
      "source": [
        "# Plotting the predicted values vs. the true values\n",
        "plt.scatter(ytest, y_pred)\n",
        "plt.xlabel(\"Actual Energy Consumption\")\n",
        "plt.ylabel(\"Predicted Energy Consumption\")\n",
        "plt.title('SVR Regressor')\n",
        "plt.show()\n",
        "\n",
        "\n",
        "# Plot the residuals\n",
        "plt.scatter(y_pred, ytest - y_pred)\n",
        "plt.xlabel(\"Predictions\")\n",
        "plt.ylabel(\"Residuals\")\n",
        "plt.show()"
      ]
    },
    {
      "cell_type": "code",
      "execution_count": 8,
      "metadata": {
        "colab": {
          "base_uri": "https://localhost:8080/"
        },
        "id": "GCIyrsUR6bww",
        "outputId": "c26f828b-9345-49ff-be8d-09ad855423a0"
      },
      "outputs": [
        {
          "output_type": "stream",
          "name": "stdout",
          "text": [
            "MSE: 10323.981201489667\n",
            "MAE: 46.34175237923436\n",
            "R2 Score: 0.0332471043227075\n",
            "\n"
          ]
        }
      ],
      "source": [
        "# Calculating evaluation metrics\n",
        "mse = mean_squared_error(ytest, y_pred)\n",
        "mae = mean_absolute_error(ytest, y_pred)\n",
        "r2 = r2_score(ytest, y_pred)\n",
        "\n",
        "\n",
        "print(\"MSE:\", mse)\n",
        "print(\"MAE:\", mae)\n",
        "print(\"R2 Score:\", r2)\n",
        "print()"
      ]
    },
    {
      "cell_type": "markdown",
      "metadata": {
        "id": "phDDI8Sq8SdI"
      },
      "source": [
        "The results suggest that there is a high degree of variability in the data, with large Mean Squared Error (MSE) of 10323.981 and a relatively large Mean Absolute Error (MAE) of 46.341. The R2 Score of 0.033 indicates that only a small portion of the variability in the data is explained by the model."
      ]
    },
    {
      "cell_type": "code",
      "execution_count": 10,
      "metadata": {
        "colab": {
          "base_uri": "https://localhost:8080/"
        },
        "id": "8d6_9U2_-slQ",
        "outputId": "c7840816-57b5-4ff4-a57c-2a1759ee9fba"
      },
      "outputs": [
        {
          "output_type": "stream",
          "name": "stdout",
          "text": [
            "        Feature  Coefficient\n",
            "22   Visibility     0.029485\n",
            "19  Press_mm_hg     0.289571\n",
            "8            T5     0.531858\n",
            "5          RH_3     1.235210\n",
            "13         RH_7     1.315146\n",
            "20       RH_out     2.202175\n",
            "21    Windspeed     2.974992\n",
            "9          RH_5     3.476690\n",
            "18        T_out     3.504869\n",
            "23    Tdewpoint     3.893861\n",
            "11         RH_6     3.921019\n",
            "6            T4     4.027379\n",
            "7          RH_4     5.433857\n",
            "17         RH_9     6.436148\n",
            "12           T7     6.977584\n",
            "0            T1     9.693432\n",
            "4            T3    11.867839\n",
            "10           T6    13.371985\n",
            "2            T2    14.701653\n",
            "14           T8    17.927789\n",
            "15         RH_8    18.252832\n",
            "3          RH_2    19.849439\n",
            "16           T9    24.459933\n",
            "1          RH_1    33.097780\n"
          ]
        }
      ],
      "source": [
        "# Calculating feature importance using coefficient values\n",
        "coef_df = pd.DataFrame({'Feature': X.columns, 'Coefficient': abs(svr.coef_.ravel())})\n",
        "coef_df = coef_df.sort_values(by='Coefficient', ascending=True)\n",
        "print(coef_df)\n"
      ]
    },
    {
      "cell_type": "code",
      "execution_count": 11,
      "metadata": {
        "colab": {
          "base_uri": "https://localhost:8080/"
        },
        "id": "-ZOtU5L7BcZT",
        "outputId": "ea371030-b420-49d8-d260-1caf6b04e02b"
      },
      "outputs": [
        {
          "output_type": "stream",
          "name": "stdout",
          "text": [
            "              T1       RH_1         T2       RH_2         T3       RH_3  \\\n",
            "0      19.890000  47.596667  19.200000  44.790000  19.790000  44.730000   \n",
            "1      19.890000  46.693333  19.200000  44.722500  19.790000  44.790000   \n",
            "2      19.890000  46.300000  19.200000  44.626667  19.790000  44.933333   \n",
            "3      19.890000  46.066667  19.200000  44.590000  19.790000  45.000000   \n",
            "4      19.890000  46.333333  19.200000  44.530000  19.790000  45.000000   \n",
            "...          ...        ...        ...        ...        ...        ...   \n",
            "19730  25.566667  46.560000  25.890000  42.025714  27.200000  41.163333   \n",
            "19731  25.500000  46.500000  25.754000  42.080000  27.133333  41.223333   \n",
            "19732  25.500000  46.596667  25.628571  42.768571  27.050000  41.690000   \n",
            "19733  25.500000  46.990000  25.414000  43.036000  26.890000  41.290000   \n",
            "19734  25.500000  46.600000  25.264286  42.971429  26.823333  41.156667   \n",
            "\n",
            "              T4       RH_4         T5       RH_5  ...       RH_8         T9  \\\n",
            "0      19.000000  45.566667  17.166667  55.200000  ...  48.900000  17.033333   \n",
            "1      19.000000  45.992500  17.166667  55.200000  ...  48.863333  17.066667   \n",
            "2      18.926667  45.890000  17.166667  55.090000  ...  48.730000  17.000000   \n",
            "3      18.890000  45.723333  17.166667  55.090000  ...  48.590000  17.000000   \n",
            "4      18.890000  45.530000  17.200000  55.090000  ...  48.590000  17.000000   \n",
            "...          ...        ...        ...        ...  ...        ...        ...   \n",
            "19730  24.700000  45.590000  23.200000  52.400000  ...  50.074000  23.200000   \n",
            "19731  24.700000  45.590000  23.230000  52.326667  ...  49.790000  23.200000   \n",
            "19732  24.700000  45.730000  23.230000  52.266667  ...  49.660000  23.200000   \n",
            "19733  24.700000  45.790000  23.200000  52.200000  ...  49.518750  23.200000   \n",
            "19734  24.700000  45.963333  23.200000  52.200000  ...  49.736000  23.200000   \n",
            "\n",
            "          RH_9      T_out  Press_mm_hg     RH_out  Windspeed  Visibility  \\\n",
            "0      45.5300   6.600000        733.5  92.000000   7.000000   63.000000   \n",
            "1      45.5600   6.483333        733.6  92.000000   6.666667   59.166667   \n",
            "2      45.5000   6.366667        733.7  92.000000   6.333333   55.333333   \n",
            "3      45.4000   6.250000        733.8  92.000000   6.000000   51.500000   \n",
            "4      45.4000   6.133333        733.9  92.000000   5.666667   47.666667   \n",
            "...        ...        ...          ...        ...        ...         ...   \n",
            "19730  46.7900  22.733333        755.2  55.666667   3.333333   23.666667   \n",
            "19731  46.7900  22.600000        755.2  56.000000   3.500000   24.500000   \n",
            "19732  46.7900  22.466667        755.2  56.333333   3.666667   25.333333   \n",
            "19733  46.8175  22.333333        755.2  56.666667   3.833333   26.166667   \n",
            "19734  46.8450  22.200000        755.2  57.000000   4.000000   27.000000   \n",
            "\n",
            "       Tdewpoint  Power  \n",
            "0       5.300000     90  \n",
            "1       5.200000     90  \n",
            "2       5.100000     80  \n",
            "3       5.000000     90  \n",
            "4       4.900000    100  \n",
            "...          ...    ...  \n",
            "19730  13.333333    100  \n",
            "19731  13.300000     90  \n",
            "19732  13.266667    280  \n",
            "19733  13.233333    430  \n",
            "19734  13.200000    440  \n",
            "\n",
            "[19735 rows x 25 columns]\n"
          ]
        }
      ],
      "source": [
        "print(procData)"
      ]
    },
    {
      "cell_type": "code",
      "execution_count": 13,
      "metadata": {
        "colab": {
          "base_uri": "https://localhost:8080/"
        },
        "id": "LsWJF38q_V4Z",
        "outputId": "372fd4be-94d5-4cd0-c321-01a98e7dfe5a"
      },
      "outputs": [
        {
          "output_type": "stream",
          "name": "stdout",
          "text": [
            "              T1       RH_1         T2       RH_2         T3   RH_3     T4  \\\n",
            "9129   21.500000  35.626667  17.790000  40.590000  21.700000  35.26  20.39   \n",
            "2453   19.500000  44.560000  18.700000  44.290000  19.823333  44.50  18.10   \n",
            "9152   20.790000  35.400000  16.890000  42.030000  21.700000  36.00  19.70   \n",
            "12694  22.100000  43.260000  19.963333  45.500000  23.390000  39.79  21.10   \n",
            "16952  24.700000  42.360000  29.856667  31.790000  26.171429  38.59  25.10   \n",
            "...          ...        ...        ...        ...        ...    ...    ...   \n",
            "11284  21.760000  40.900000  19.390000  43.090000  23.000000  39.00  21.50   \n",
            "11964  22.390000  43.700000  22.000000  42.066667  22.700000  41.23  21.29   \n",
            "5390   20.290000  35.700000  18.200000  37.590000  20.100000  37.59  18.20   \n",
            "860    21.790000  35.560000  20.434000  35.116000  21.200000  36.90  21.10   \n",
            "15795  21.323333  37.730000  19.890000  38.566667  22.700000  36.59  19.70   \n",
            "\n",
            "            RH_4         T6       RH_6     T7    RH_7         T8       RH_8  \\\n",
            "9129   33.863333   0.133333  48.956667  20.79  27.200  22.100000  39.290000   \n",
            "2453   43.860000   3.390000  86.700000  18.89  39.080  18.790000  45.200000   \n",
            "9152   33.200000  -1.533333  61.860000  20.39  27.700  21.730000  39.060000   \n",
            "12694  39.060000   9.190000  26.620000  21.33  33.612  24.390000  38.834000   \n",
            "16952  39.760000  26.390000   1.000000  24.00  41.054  24.434000  45.056000   \n",
            "...          ...        ...        ...    ...     ...        ...        ...   \n",
            "11284  39.790000   9.500000  48.826667  21.00  34.090  24.166667  45.466667   \n",
            "11964  44.120000  17.893333  20.223333  21.50  40.060  24.200000  47.000000   \n",
            "5390   35.290000  -2.090000  82.900000  18.50  30.000  21.260000  41.700000   \n",
            "860    35.663333   1.200000  96.833333  21.79  30.790  22.700000  39.475000   \n",
            "15795  39.433333  10.890000  28.633333  19.10  33.730  21.290000  43.645000   \n",
            "\n",
            "              T9       RH_9  Tdewpoint  \n",
            "9129   19.463333  38.260000  -2.350000  \n",
            "2453   17.200000  46.163333   0.966667  \n",
            "9152   19.390000  39.067500  -3.100000  \n",
            "12694  20.290000  37.400000   5.733333  \n",
            "16952  23.100000  44.466667  10.800000  \n",
            "...          ...        ...        ...  \n",
            "11284  20.356667  40.560000   5.833333  \n",
            "11964  20.290000  44.290000  10.900000  \n",
            "5390   17.890000  39.466667  -2.933333  \n",
            "860    18.500000  41.466667  -4.066667  \n",
            "15795  19.390000  41.266667   4.350000  \n",
            "\n",
            "[13814 rows x 17 columns]\n"
          ]
        }
      ],
      "source": [
        "# Defining the X (input) and y(target variable) for our study\n",
        "# Dropping the columns of less importance according to the feature importance conducted\n",
        "\n",
        "X1= procData.drop(['Power','Visibility','Press_mm_hg', 'RH_5','T5','RH_out','Windspeed','T_out'], axis = 1)\n",
        "y1 = procData[\"Power\"] \n",
        "\n",
        "# Splitting the data, keeping 30% as reserved for testing\n",
        "Xtrain, Xtest, ytrain, ytest = train_test_split(X1,y1,test_size =0.30, random_state=42)\n",
        "  \n",
        "# printing a view of the Processed Dataframe\n",
        "print(Xtrain)\n",
        "\n",
        "# Standardizing the input features\n",
        "scaler = StandardScaler()\n",
        "X_train = scaler.fit_transform(Xtrain)\n",
        "X_test = scaler.transform(Xtest)\n",
        "\n",
        "\n",
        "# Creating the SVR model\n",
        "# kernel is selected as linear, with maximum iteration of 10000, iteration range is increased to 100\n",
        "svr = SVR(kernel='linear', C=1.0, epsilon=0.2, max_iter=10000)\n",
        "for i in range(100):\n",
        "    # Fitting the SVR model\n",
        "    svr.fit(X_train, ytrain)\n",
        "\n",
        "# Making predictions on testing set\n",
        "y_pred = svr.predict(X_test)\n"
      ]
    },
    {
      "cell_type": "markdown",
      "source": [
        "The time taken was 16mins 20sec\n"
      ],
      "metadata": {
        "id": "dQt8N__8GEdd"
      }
    },
    {
      "cell_type": "code",
      "execution_count": 14,
      "metadata": {
        "colab": {
          "base_uri": "https://localhost:8080/"
        },
        "id": "p8bf6AX6vEZT",
        "outputId": "a828ef16-9447-4510-e2b9-b828357537ad"
      },
      "outputs": [
        {
          "output_type": "stream",
          "name": "stdout",
          "text": [
            "Iteration: 100\n",
            "MSE: 10382.769632132313\n",
            "MAE: 46.4943119681395\n",
            "R2 Score: 0.027742068576623202\n",
            "\n"
          ]
        }
      ],
      "source": [
        "# Calculating evaluation metrics for the above model\n",
        "mse = mean_squared_error(ytest, y_pred)\n",
        "mae = mean_absolute_error(ytest, y_pred)\n",
        "r2 = r2_score(ytest, y_pred)\n",
        "\n",
        "print(\"Iteration:\", i+1)\n",
        "print(\"MSE:\", mse)\n",
        "print(\"MAE:\", mae)\n",
        "print(\"R2 Score:\", r2)\n",
        "print()"
      ]
    },
    {
      "cell_type": "markdown",
      "metadata": {
        "id": "F0WjYyX9SJ8p"
      },
      "source": [
        "The current results are slightly better than the previous iteration. MSE has increased a bit but is almost similar , and the MAE has also increased slightly from 46.341 to 46.494. The R2 Score has also decreased slightly from 0.033 to 0.027, indicating that the model is almost similar and performance has not improved.\n",
        "\n"
      ]
    },
    {
      "cell_type": "code",
      "execution_count": 15,
      "metadata": {
        "colab": {
          "base_uri": "https://localhost:8080/"
        },
        "id": "vBg-rqLe-kKz",
        "outputId": "32f1bc0d-6208-4e6f-9e15-cc7b3ae446e1"
      },
      "outputs": [
        {
          "output_type": "stream",
          "name": "stdout",
          "text": [
            "      Feature  Coefficient\n",
            "11       RH_7     0.682429\n",
            "5        RH_3     1.446452\n",
            "6          T4     3.501067\n",
            "16  Tdewpoint     4.670899\n",
            "9        RH_6     5.843923\n",
            "7        RH_4     6.491981\n",
            "15       RH_9     6.788423\n",
            "10         T7     7.493927\n",
            "0          T1    10.399048\n",
            "8          T6    10.918524\n",
            "4          T3    11.974162\n",
            "2          T2    14.451563\n",
            "13       RH_8    17.551870\n",
            "12         T8    19.195809\n",
            "3        RH_2    19.625042\n",
            "14         T9    23.626028\n",
            "1        RH_1    33.344415\n"
          ]
        }
      ],
      "source": [
        "# Calculating feature importance using coefficient values\n",
        "coef_df = pd.DataFrame({'Feature': X1.columns, 'Coefficient': abs(svr.coef_.ravel())})\n",
        "coef_df = coef_df.sort_values(by='Coefficient', ascending=True)\n",
        "print(coef_df)\n"
      ]
    },
    {
      "cell_type": "code",
      "execution_count": 16,
      "metadata": {
        "colab": {
          "base_uri": "https://localhost:8080/",
          "height": 564
        },
        "id": "NR3H2CXdYrF1",
        "outputId": "d630dd0b-6e9a-4d2e-c21b-49a35f7dddfc"
      },
      "outputs": [
        {
          "output_type": "display_data",
          "data": {
            "text/plain": [
              "<Figure size 800x600 with 1 Axes>"
            ],
            "image/png": "[encoded data removed]"
          },
          "metadata": {}
        }
      ],
      "source": [
        "# Plot the feature importance\n",
        "plt.figure(figsize=(8, 6))\n",
        "plt.barh(y=coef_df['Feature'], width=coef_df['Coefficient'])\n",
        "plt.xlabel('Coefficient Value (Absolute)')\n",
        "plt.ylabel('Feature')\n",
        "plt.title('Feature Importance Plot')\n",
        "plt.show()"
      ]
    },
    {
      "cell_type": "code",
      "execution_count": 17,
      "metadata": {
        "id": "LxZuL5polVLz"
      },
      "outputs": [],
      "source": [
        "# Creating the SVR model hyper parameter tuning.\n",
        "# kernel is selected as rbf instead of linear, with maximum iteration of 10000\n",
        "svr = SVR(kernel='rbf', C=1.0)\n",
        "for i in range(100):\n",
        "    # Fitting the SVR model\n",
        "    svr.fit(X_train, ytrain)\n",
        "\n",
        "# Making predictions on testing set\n",
        "y_pred = svr.predict(X_test)\n"
      ]
    },
    {
      "cell_type": "markdown",
      "source": [
        "Execution time is 20min 37sec"
      ],
      "metadata": {
        "id": "WWR6eLqwMiB0"
      }
    },
    {
      "cell_type": "code",
      "execution_count": 18,
      "metadata": {
        "colab": {
          "base_uri": "https://localhost:8080/"
        },
        "id": "C88EaGjXmY4U",
        "outputId": "e0dce19a-29b9-4226-c756-27e09ed27834"
      },
      "outputs": [
        {
          "output_type": "stream",
          "name": "stdout",
          "text": [
            "MSE: 10534.419758290851\n",
            "MAE: 45.74208867283486\n",
            "R2 Score: 0.013541326078909455\n",
            "\n"
          ]
        }
      ],
      "source": [
        "# Calculating evaluation metrics for the above model\n",
        "mse = mean_squared_error(ytest, y_pred)\n",
        "mae = mean_absolute_error(ytest, y_pred)\n",
        "r2 = r2_score(ytest, y_pred)\n",
        "\n",
        "\n",
        "print(\"MSE:\", mse)\n",
        "print(\"MAE:\", mae)\n",
        "print(\"R2 Score:\", r2)\n",
        "print()"
      ]
    },
    {
      "cell_type": "code",
      "execution_count": 19,
      "metadata": {
        "id": "hKaQX1JRDuif",
        "colab": {
          "base_uri": "https://localhost:8080/"
        },
        "outputId": "684e725a-aef1-42a2-8115-29edd39582a9"
      },
      "outputs": [
        {
          "output_type": "stream",
          "name": "stdout",
          "text": [
            "MSE: 129453.58318727798\n",
            "MAE: 231.04110688142853\n",
            "R2 Score: -11.122225327574617\n",
            "\n"
          ]
        }
      ],
      "source": [
        "# Creating the SVR model hyper parameter tuning\n",
        "# kernel is selected as sigmoid instead of rbf or linear to see results, with maximum iteration of 10000, 100 iterations \n",
        "svr = SVR(kernel='sigmoid', C=1.0)\n",
        "for i in range(100):\n",
        "    # Fitting the SVR model\n",
        "    svr.fit(X_train, ytrain)\n",
        "\n",
        "# Making predictions on testing set\n",
        "y_pred_sig = svr.predict(X_test)\n",
        "\n",
        "# Calculating evaluation metrics\n",
        "mse = mean_squared_error(ytest, y_pred_sig)\n",
        "mae = mean_absolute_error(ytest, y_pred_sig)\n",
        "r2 = r2_score(ytest, y_pred_sig)\n",
        "\n",
        "print(\"MSE:\", mse)\n",
        "print(\"MAE:\", mae)\n",
        "print(\"R2 Score:\", r2)\n",
        "print()"
      ]
    },
    {
      "cell_type": "markdown",
      "source": [
        "Execution time is 35min 58s"
      ],
      "metadata": {
        "id": "Cbz3RUviWELt"
      }
    },
    {
      "cell_type": "code",
      "execution_count": 20,
      "metadata": {
        "colab": {
          "base_uri": "https://localhost:8080/"
        },
        "id": "dJcwQsxBSDXk",
        "outputId": "b59864fb-509c-4acf-e3b9-820f8e9e9950"
      },
      "outputs": [
        {
          "output_type": "stream",
          "name": "stdout",
          "text": [
            "MSE: 10782.188119267472\n",
            "MAE: 47.707067618078696\n",
            "R2 Score: -0.00966007033556715\n",
            "\n"
          ]
        }
      ],
      "source": [
        "# Creating the SVR model hyper parameter tuning\n",
        "# kernel poly is selected instead of linear, with maximum iteration of 10000, we consider 50 iterations\n",
        "svr = SVR(kernel='poly', C=1.0)\n",
        "for i in range(50):\n",
        "    # Fitting the SVR model\n",
        "    svr.fit(X_train, ytrain)\n",
        "\n",
        "# Making predictions on testing set\n",
        "y_pred_sig = svr.predict(X_test)\n",
        "# 36min 54sec\n",
        "\n",
        "# Calculating evaluation metrics\n",
        "mse = mean_squared_error(ytest, y_pred_sig)\n",
        "mae = mean_absolute_error(ytest, y_pred_sig)\n",
        "r2 = r2_score(ytest, y_pred_sig)\n",
        "\n",
        "print(\"MSE:\", mse)\n",
        "print(\"MAE:\", mae)\n",
        "print(\"R2 Score:\", r2)\n",
        "print()"
      ]
    },
    {
      "cell_type": "markdown",
      "source": [
        "Execution time is 9m 2s but considering 50 iterations , time is not too high. R2 score is negative, which means that the model is worse than a simple horizontal line that predicts the mean value of the dependent variable. This is happening because the SVR model has a large error or because the dependent variable has a high degree of variability and the model is not capturing that variability well.\n"
      ],
      "metadata": {
        "id": "B_NIRPETZDIE"
      }
    },
    {
      "cell_type": "code",
      "execution_count": 22,
      "metadata": {
        "colab": {
          "base_uri": "https://localhost:8080/"
        },
        "id": "cEQ0B39Lp5YC",
        "outputId": "f3f43276-f155-43bd-fd7c-798d9dad7a86"
      },
      "outputs": [
        {
          "output_type": "stream",
          "name": "stdout",
          "text": [
            "MSE: 10416.2721225228\n",
            "MAE: 45.09520443425271\n",
            "R2 Score: 0.02460484573930055\n",
            "\n"
          ]
        }
      ],
      "source": [
        "# Creating the SVR model hyper parameter tuning\n",
        "# kernel is selected as rbf and gamma = 0.1 is chosen, with maximum iteration of 10000, taking 20 iterations\n",
        "svr = SVR(kernel='rbf', C=1.0, gamma=0.1)\n",
        "for i in range(20):\n",
        "    # Fitting the SVR model\n",
        "    svr.fit(X_train, ytrain)\n",
        "\n",
        "# Making predictions on testing set\n",
        "y_pred_rbf = svr.predict(X_test)\n",
        "\n",
        "# Calculating evaluation metrics\n",
        "mse = mean_squared_error(ytest, y_pred_rbf)\n",
        "mae = mean_absolute_error(ytest, y_pred_rbf)\n",
        "r2 = r2_score(ytest, y_pred_rbf)\n",
        "\n",
        "print(\"MSE:\", mse)\n",
        "print(\"MAE:\", mae)\n",
        "print(\"R2 Score:\", r2)\n",
        "print()"
      ]
    },
    {
      "cell_type": "markdown",
      "source": [
        "The current results are slightly better than the previous iteration. MSE has increased a bit but is almost similar , and the MAE has also decreased from 46.341 to 45.095. The R2 Score has also decreased slightly from 0.033 to 0.024, indicating that the model is almost similar and performance has improved, but overall linear kernel works better with our given dataset.\n"
      ],
      "metadata": {
        "id": "g2XvHk0GgyOb"
      }
    }
  ],
  "metadata": {
    "colab": {
      "provenance": []
    },
    "kernelspec": {
      "display_name": "Python 3",
      "name": "python3"
    },
    "language_info": {
      "name": "python"
    }
  },
  "nbformat": 4,
  "nbformat_minor": 0
}